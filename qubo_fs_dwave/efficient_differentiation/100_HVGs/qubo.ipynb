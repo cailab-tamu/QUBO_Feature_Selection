{
 "cells": [
  {
   "cell_type": "code",
   "execution_count": 1,
   "metadata": {},
   "outputs": [
    {
     "name": "stdout",
     "output_type": "stream",
     "text": [
      "(100, 100)\n",
      "[[-0.02067658  0.00295965  0.01488119 ...  0.00277973  0.00351497\n",
      "   0.00294838]\n",
      " [ 0.00295965 -0.04141929  0.0029986  ...  0.00333791  0.0037569\n",
      "   0.00315401]\n",
      " [ 0.01488119  0.0029986  -0.02601785 ...  0.00312316  0.00319476\n",
      "   0.00329001]\n",
      " ...\n",
      " [ 0.00277973  0.00333791  0.00312316 ... -0.0217299   0.00317246\n",
      "   0.01086997]\n",
      " [ 0.00351497  0.0037569   0.00319476 ...  0.00317246 -0.12948262\n",
      "   0.00456509]\n",
      " [ 0.00294838  0.00315401  0.00329001 ...  0.01086997  0.00456509\n",
      "  -0.05787844]]\n"
     ]
    }
   ],
   "source": [
    "import pandas as pd\n",
    "import numpy as np\n",
    "\n",
    "df_genes = pd.read_csv('genes.csv', header = None)\n",
    "df = pd.read_csv('qubo_matrix.csv', header = None)\n",
    "\n",
    "# Obtain objective function in matrix form...\n",
    "Qmat = np.asarray(df)\n",
    "print(Qmat.shape)\n",
    "print(Qmat)\n",
    "\n",
    "# Build qubo dictionary\n",
    "def qubo_matrix_to_dict(Q):\n",
    "    qubo = {}\n",
    "    for i in range(Q.shape[0]):\n",
    "        for j in range(Q.shape[1]):\n",
    "            if Q[i, j] != 0:\n",
    "                qubo[(i, j)] = Q[i, j]\n",
    "    return qubo\n",
    "\n",
    "qubo = qubo_matrix_to_dict(Qmat)"
   ]
  },
  {
   "cell_type": "code",
   "execution_count": null,
   "metadata": {},
   "outputs": [],
   "source": [
    "# only quantum computer solver\n",
    "#import dimod\n",
    "#import dwave.inspector\n",
    "#import dwave.system\n",
    "\n",
    "#bqm = dimod.generators.ran_r(1, 20)\n",
    "#sampler = dwave.system.EmbeddingComposite(dwave.system.DWaveSampler())\n",
    "#sampleset = sampler.sample(bqm, num_reads=100)\n",
    "#dwave.inspector.show(sampleset)"
   ]
  },
  {
   "cell_type": "code",
   "execution_count": 2,
   "metadata": {},
   "outputs": [
    {
     "name": "stdout",
     "output_type": "stream",
     "text": [
      "Best solution:  {0: 0, 1: 0, 2: 0, 3: 0, 4: 0, 5: 0, 6: 0, 7: 1, 8: 0, 9: 0, 10: 1, 11: 0, 12: 0, 13: 0, 14: 0, 15: 1, 16: 0, 17: 0, 18: 0, 19: 0, 20: 1, 21: 0, 22: 0, 23: 0, 24: 0, 25: 0, 26: 0, 27: 0, 28: 0, 29: 0, 30: 0, 31: 1, 32: 0, 33: 0, 34: 0, 35: 0, 36: 0, 37: 0, 38: 0, 39: 0, 40: 0, 41: 0, 42: 0, 43: 0, 44: 1, 45: 0, 46: 0, 47: 0, 48: 0, 49: 1, 50: 0, 51: 0, 52: 0, 53: 0, 54: 0, 55: 0, 56: 0, 57: 0, 58: 0, 59: 0, 60: 0, 61: 1, 62: 0, 63: 0, 64: 0, 65: 0, 66: 0, 67: 0, 68: 0, 69: 0, 70: 1, 71: 0, 72: 0, 73: 0, 74: 0, 75: 0, 76: 0, 77: 0, 78: 0, 79: 0, 80: 0, 81: 0, 82: 0, 83: 0, 84: 0, 85: 0, 86: 0, 87: 0, 88: 0, 89: 0, 90: 0, 91: 0, 92: 0, 93: 0, 94: 0, 95: 0, 96: 0, 97: 0, 98: 1, 99: 0}\n",
      "Energy:  -0.6019009580515887\n",
      "Occurrences:  1\n"
     ]
    }
   ],
   "source": [
    "# hybrid quantum and classical solver 9.6 seconds\n",
    "import dwavebinarycsp\n",
    "import dwave.system\n",
    "from dwave.system import DWaveSampler, EmbeddingComposite\n",
    "from dwave.system import LeapHybridSampler\n",
    "import numpy as np\n",
    "# Using Leap Hybrid Sampler:\n",
    "sampler = LeapHybridSampler()\n",
    "sampleset = sampler.sample_qubo(qubo)\n",
    "print(\"Best solution: \", sampleset.first.sample)\n",
    "print(\"Energy: \", sampleset.first.energy)\n",
    "print(\"Occurrences: \", sampleset.first.num_occurrences)"
   ]
  },
  {
   "cell_type": "code",
   "execution_count": 4,
   "metadata": {},
   "outputs": [],
   "source": [
    "sample_dict = sampleset.first.sample\n",
    "# Boolean vector containing selected features\n",
    "values = list( sample_dict.values() )\n",
    "df_genes2 = pd.read_csv('genes.csv', header = None)\n",
    "df_genes2['feature_selected'] = values\n",
    "df_genes2 = df_genes2.rename(columns={0: 'Gene'})\n",
    "idx2 = df_genes2['feature_selected'] > 0\n",
    "filt_df2 = df_genes2[idx2]\n",
    "filt_df2\n",
    "filt_df2.to_csv('filt_df_QA.csv', index=True)  \n"
   ]
  },
  {
   "cell_type": "code",
   "execution_count": 5,
   "metadata": {},
   "outputs": [
    {
     "name": "stdout",
     "output_type": "stream",
     "text": [
      "Best solution:  {0: 0, 1: 1, 2: 1, 3: 0, 4: 1, 5: 1, 6: 0, 7: 0, 8: 0, 9: 0, 10: 0, 11: 0, 12: 0, 13: 0, 14: 0, 15: 1, 16: 0, 17: 1, 18: 0, 19: 0, 20: 1, 21: 0, 22: 1, 23: 0, 24: 1, 25: 0, 26: 0, 27: 1, 28: 0, 29: 1, 30: 0, 31: 0, 32: 0, 33: 0, 34: 0, 35: 0, 36: 1, 37: 0, 38: 0, 39: 0, 40: 0, 41: 0, 42: 0, 43: 0, 44: 1, 45: 1, 46: 0, 47: 0, 48: 0, 49: 1, 50: 0, 51: 0, 52: 0, 53: 1, 54: 0, 55: 0, 56: 0, 57: 0, 58: 0, 59: 0, 60: 0, 61: 0, 62: 0, 63: 0, 64: 0, 65: 0, 66: 0, 67: 1, 68: 0, 69: 0, 70: 1, 71: 0, 72: 0, 73: 0, 74: 0, 75: 1, 76: 0, 77: 1, 78: 1, 79: 0, 80: 0, 81: 0, 82: 1, 83: 0, 84: 0, 85: 0, 86: 0, 87: 0, 88: 1, 89: 0, 90: 0, 91: 0, 92: 0, 93: 0, 94: 0, 95: 1, 96: 0, 97: 0, 98: 0, 99: 0}\n",
      "Energy:  1.5545189436837994\n",
      "Occurrences:  1\n"
     ]
    }
   ],
   "source": [
    "# Classical solver 1000 genes took 6 mins for num_read=1 ,100 took 650 mins\n",
    "# Classical solver 100 genes took 2.8 secs for num_read=1 , 100 took 5 mins, 1000 took 44 minutes\n",
    "import numpy as np\n",
    "from dimod import SimulatedAnnealingSampler\n",
    "# Initialize the classical sampler\n",
    "\n",
    "qubo = qubo_matrix_to_dict(Qmat)\n",
    "\n",
    "sampler = SimulatedAnnealingSampler()\n",
    "\n",
    "# Sample the QUBO\n",
    "sampleset = sampler.sample_qubo(qubo, num_reads=100)\n",
    "print(\"Best solution: \", sampleset.first.sample)\n",
    "print(\"Energy: \", sampleset.first.energy)\n",
    "print(\"Occurrences: \", sampleset.first.num_occurrences)"
   ]
  },
  {
   "cell_type": "code",
   "execution_count": 6,
   "metadata": {},
   "outputs": [],
   "source": [
    "sample_dict = sampleset.first.sample\n",
    "# Boolean vector containing selected features\n",
    "values = list( sample_dict.values() )\n",
    "df_genes = pd.read_csv('genes.csv', header = None)\n",
    "df_genes['feature_selected'] = values\n",
    "df_genes = df_genes.rename(columns={0: 'Gene'})\n",
    "idx = df_genes['feature_selected'] >0\n",
    "filt_df = df_genes[idx]\n",
    "filt_df\n",
    "filt_df.to_csv('filt_df_SA.csv', index=True)  \n"
   ]
  },
  {
   "cell_type": "code",
   "execution_count": null,
   "metadata": {},
   "outputs": [],
   "source": [
    "import numpy as np\n",
    "from dwave.system import DWaveSampler, EmbeddingComposite, LeapHybridSampler\n",
    "from dimod import SimulatedAnnealingSampler\n",
    "\n",
    "\n",
    "# Convert QUBO matrix to dictionary format\n",
    "def qubo_matrix_to_dict(Q):\n",
    "    qubo = {}\n",
    "    for i in range(Q.shape[0]):\n",
    "        for j in range(Q.shape[1]):\n",
    "            if Q[i, j] != 0:\n",
    "                qubo[(i, j)] = Q[i, j]\n",
    "    return qubo\n",
    "\n",
    "qubo = qubo_matrix_to_dict(Qmat)\n",
    "\n",
    "# Quantum Solver\n",
    "print(\"Quantum Solver Results:\")\n",
    "\n",
    "# Using D-Wave Sampler with Embedding Composite (commented out)\n",
    "# Uncomment and configure with your D-Wave sampler if needed\n",
    "# sampler_q = EmbeddingComposite(DWaveSampler())\n",
    "# sampleset_q = sampler_q.sample_qubo(qubo, num_reads=1000)\n",
    "\n",
    "# Using Leap Hybrid Sampler\n",
    "sampler_q = LeapHybridSampler()\n",
    "sampleset_q = sampler_q.sample_qubo(qubo)\n",
    "\n",
    "# Retrieve and analyze quantum results\n",
    "print(\"Best solution: \", sampleset_q.first.sample)\n",
    "print(\"Energy: \", sampleset_q.first.energy)\n",
    "print(\"Occurrences: \", sampleset_q.first.num_occurrences)\n",
    "\n",
    "# Classical Solver\n",
    "print(\"\\nClassical Solver Results:\")\n",
    "\n",
    "# Initialize the classical sampler\n",
    "sampler_c = SimulatedAnnealingSampler()\n",
    "\n",
    "# Sample the QUBO\n",
    "sampleset_c = sampler_c.sample_qubo(qubo, num_reads=1000)\n",
    "\n",
    "# Retrieve and analyze classical results\n",
    "print(\"Best solution: \", sampleset_c.first.sample)\n",
    "print(\"Energy: \", sampleset_c.first.energy)\n",
    "print(\"Occurrences: \", sampleset_c.first.num_occurrences)"
   ]
  }
 ],
 "metadata": {
  "kernelspec": {
   "display_name": "dwave2",
   "language": "python",
   "name": "python3"
  },
  "language_info": {
   "codemirror_mode": {
    "name": "ipython",
    "version": 3
   },
   "file_extension": ".py",
   "mimetype": "text/x-python",
   "name": "python",
   "nbconvert_exporter": "python",
   "pygments_lexer": "ipython3",
   "version": "3.9.19"
  }
 },
 "nbformat": 4,
 "nbformat_minor": 2
}
